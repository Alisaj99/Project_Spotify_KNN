{
 "metadata": {
  "kernelspec": {
   "name": "python3",
   "language": "python",
   "display_name": "Python 3 (ipykernel)"
  },
  "language_info": {
   "codemirror_mode": {
    "name": "python",
    "version": 3
   },
   "file_extension": ".py",
   "mimetype": "text/x-python",
   "name": "python",
   "nbconvert_exporter": "python",
   "pygments_lexer": "ipython3",
   "version": "3.8"
  }
 },
 "nbformat_minor": 4,
 "nbformat": 4,
 "cells": [
  {
   "cell_type": "code",
   "source": [
    "print(\"hello\")"
   ],
   "metadata": {
    "trusted": true
   },
   "outputs": [],
   "execution_count": null
  },
  {
   "cell_type": "code",
   "execution_count": 3,
   "outputs": [
    {
     "name": "stdout",
     "output_type": "stream",
     "text": [
      "Tracks DF Columns: Index(['Unnamed: 0', 'acousticness', 'album_id', 'analysis_url', 'artists_id',\n",
      "       'available_markets', 'country', 'danceability', 'disc_number',\n",
      "       'duration_ms', 'energy', 'href', 'id', 'instrumentalness', 'key',\n",
      "       'liveness', 'loudness', 'lyrics', 'mode', 'name', 'playlist',\n",
      "       'popularity', 'preview_url', 'speechiness', 'tempo', 'time_signature',\n",
      "       'track_href', 'track_name_prev', 'track_number', 'uri', 'valence',\n",
      "       'type'],\n",
      "      dtype='object')\n",
      "Audio Features DF Columns: Index(['Unnamed: 0', 'Chroma_1', 'Chroma_10', 'Chroma_11', 'Chroma_12',\n",
      "       'Chroma_2', 'Chroma_3', 'Chroma_4', 'Chroma_5', 'Chroma_6',\n",
      "       ...\n",
      "       'Tonnetz_4', 'Tonnetz_5', 'Tonnetz_6', 'ZCR', 'entropy_energy',\n",
      "       'spectral_bandwith', 'spectral_centroid', 'spectral_rollOff_max',\n",
      "       'spectral_rollOff_min', 'track_id'],\n",
      "      dtype='object', length=209)\n",
      "Lyrics Features DF Columns: Index(['Unnamed: 0', 'mean_syllables_word', 'mean_words_sentence',\n",
      "       'n_sentences', 'n_words', 'sentence_similarity', 'track_id',\n",
      "       'vocabulary_wealth'],\n",
      "      dtype='object')\n",
      "Albums DF Columns: Index(['Unnamed: 0', 'album_type', 'artist_id', 'available_markets',\n",
      "       'external_urls', 'href', 'id', 'images', 'name', 'release_date',\n",
      "       'release_date_precision', 'total_tracks', 'track_id', 'track_name_prev',\n",
      "       'uri', 'type'],\n",
      "      dtype='object')\n",
      "Artists DF Columns: Index(['Unnamed: 0', 'artist_popularity', 'followers', 'genres', 'id', 'name',\n",
      "       'track_id', 'track_name_prev', 'type'],\n",
      "      dtype='object')\n",
      "Sample artist_id in tracks_df: 0    3mxJuHRn2ZWD5OofvJtDZY\n",
      "1    4xWMewm6CYMstu0sPgd9jJ\n",
      "2    3hYaK5FF3YAglCj5HZgBnP\n",
      "3    2KQsUB9DRBcJk17JWX1eXD\n",
      "4    3hYaK5FF3YAglCj5HZgBnP\n",
      "Name: artist_id, dtype: object\n",
      "Sample artist_id in artists_df: 0    4mGnpjhqgx4RUdsIJiURdo\n",
      "1    1dLnVku4VQUOLswwDFvRc9\n",
      "2    6YVY310fjfUzKi8hiqR7iK\n",
      "3    2VElyouiCfoYPDJluzwJwK\n",
      "4    4agVy03qW8juSysCTUOuDI\n",
      "Name: artist_id, dtype: object\n",
      "Merged DF Columns: Index(['acousticness', 'album_id', 'artist_id', 'danceability', 'disc_number',\n",
      "       'duration_ms', 'energy', 'track_id_x', 'instrumentalness', 'key',\n",
      "       ...\n",
      "       'vocabulary_wealth', 'album_type', 'album_artist_id', 'name_y',\n",
      "       'total_tracks', 'track_id_y', 'artist_popularity', 'followers', 'name',\n",
      "       'track_id'],\n",
      "      dtype='object', length=243)\n"
     ]
    }
   ],
   "source": [
    "import pandas as pd\n",
    "import numpy as np\n",
    "import ast\n",
    "import pickle\n",
    "\n",
    "# Laden der Datensätze\n",
    "tracks_df = pd.read_csv(r'C:\\Users\\monaa\\Desktop\\Seminare & Vorlesungen\\Analyseanwendungen\\spotify_data\\SpotGenTrack\\Data Sources\\spotify_tracks.csv')\n",
    "albums_df = pd.read_csv(r'C:\\Users\\monaa\\Desktop\\Seminare & Vorlesungen\\Analyseanwendungen\\spotify_data\\SpotGenTrack\\Data Sources\\spotify_albums.csv')\n",
    "artists_df = pd.read_csv(r'C:\\Users\\monaa\\Desktop\\Seminare & Vorlesungen\\Analyseanwendungen\\spotify_data\\SpotGenTrack\\Data Sources\\spotify_artists.csv')\n",
    "audio_features_df = pd.read_csv(r'C:\\Users\\monaa\\Desktop\\Seminare & Vorlesungen\\Analyseanwendungen\\spotify_data\\SpotGenTrack\\Data Sources\\low_level_audio_features.csv')\n",
    "lyrics_features_df = pd.read_csv(r'C:\\Users\\monaa\\Desktop\\Seminare & Vorlesungen\\Analyseanwendungen\\spotify_data\\SpotGenTrack\\Data Sources\\lyrics_features.csv')\n",
    "\n",
    "# Überprüfen der Spaltennamen\n",
    "print(\"Tracks DF Columns:\", tracks_df.columns)\n",
    "print(\"Audio Features DF Columns:\", audio_features_df.columns)\n",
    "print(\"Lyrics Features DF Columns:\", lyrics_features_df.columns)\n",
    "print(\"Albums DF Columns:\", albums_df.columns)\n",
    "print(\"Artists DF Columns:\", artists_df.columns)\n",
    "\n",
    "# Umbenennen der Spalten für Konsistenz\n",
    "tracks_df = tracks_df.rename(columns={'id': 'track_id', 'artists_id': 'artist_id'})\n",
    "albums_df = albums_df.rename(columns={'id': 'album_id'})\n",
    "artists_df = artists_df.rename(columns={'id': 'artist_id'})\n",
    "\n",
    "# Konvertieren von artist_id Spaltenwerten in tracks_df von Listen zu einzelnen Werten\n",
    "tracks_df['artist_id'] = tracks_df['artist_id'].apply(ast.literal_eval)  # Umwandeln von String zu Liste\n",
    "tracks_df = tracks_df.explode('artist_id')  # Auflösen der Listen zu separaten Zeilen\n",
    "\n",
    "# Überprüfen der Inhalte der relevanten Spalten\n",
    "print(\"Sample artist_id in tracks_df:\", tracks_df['artist_id'].head())\n",
    "print(\"Sample artist_id in artists_df:\", artists_df['artist_id'].head())\n",
    "\n",
    "# Entfernen von unnötigen Spalten\n",
    "def drop_columns_safely(df, columns):\n",
    "    return df.drop(columns=[col for col in columns if col in df.columns])\n",
    "\n",
    "tracks_df = drop_columns_safely(tracks_df, ['Unnamed: 0', 'analysis_url', 'available_markets', 'country', 'href', 'playlist', 'preview_url', 'track_href', 'track_name_prev', 'uri', 'type'])\n",
    "albums_df = drop_columns_safely(albums_df, ['Unnamed: 0', 'available_markets', 'external_urls', 'href', 'images', 'release_date', 'release_date_precision', 'track_name_prev', 'uri', 'type'])\n",
    "artists_df = drop_columns_safely(artists_df, ['Unnamed: 0', 'genres', 'track_name_prev', 'type'])\n",
    "audio_features_df = drop_columns_safely(audio_features_df, ['Unnamed: 0'])\n",
    "lyrics_features_df = drop_columns_safely(lyrics_features_df, ['Unnamed: 0'])\n",
    "\n",
    "# Zusammenführen der Daten\n",
    "merged_df_1 = pd.merge(tracks_df, audio_features_df, on='track_id')\n",
    "merged_df_2 = pd.merge(merged_df_1, lyrics_features_df, on='track_id')\n",
    "albums_df = albums_df.rename(columns={'artist_id': 'album_artist_id'})  # Umbenennen zur Vermeidung von Konflikten\n",
    "merged_df_3 = pd.merge(merged_df_2, albums_df, on='album_id')\n",
    "merged_df_4 = pd.merge(merged_df_3, artists_df, left_on='artist_id', right_on='artist_id')\n",
    "\n",
    "# Zusammengeführte Daten als CSV-Datei speichern\n",
    "merged_df_4.to_csv(r'C:\\Users\\monaa\\Desktop\\Seminare & Vorlesungen\\Analyseanwendungen\\spotify_data\\SpotGenTrack\\Data Sources\\merged_df_4.csv', index=False)\n",
    "\n",
    "print(\"Merged DF Columns:\", merged_df_4.columns)\n"
   ],
   "metadata": {
    "collapsed": false,
    "ExecuteTime": {
     "end_time": "2024-05-26T03:45:50.162603500Z",
     "start_time": "2024-05-26T03:44:51.944239200Z"
    }
   }
  },
  {
   "cell_type": "code",
   "execution_count": 4,
   "outputs": [],
   "source": [
    "from sklearn.preprocessing import StandardScaler\n",
    "\n",
    "# Relevante Features auswählen\n",
    "features = ['danceability', 'energy', 'tempo', 'valence', 'acousticness', 'instrumentalness', 'liveness', 'speechiness']\n",
    "\n",
    "# Features und Track IDs extrahieren\n",
    "X = merged_df_4[features]\n",
    "track_ids = merged_df_4['track_id']\n",
    "\n",
    "# Normalisierung der Features\n",
    "scaler = StandardScaler()\n",
    "X_scaled = scaler.fit_transform(X)\n",
    "\n",
    "# Normalisierte Features in ein DataFrame konvertieren\n",
    "X_scaled_df = pd.DataFrame(X_scaled, columns=features)\n",
    "X_scaled_df['track_id'] = track_ids\n",
    "\n",
    "# Speichern des Scalers für zukünftige Verwendung\n",
    "with open('scaler.pkl', 'wb') as f:\n",
    "    pickle.dump(scaler, f)\n"
   ],
   "metadata": {
    "collapsed": false,
    "ExecuteTime": {
     "end_time": "2024-05-26T03:45:50.223236700Z",
     "start_time": "2024-05-26T03:45:50.162603500Z"
    }
   }
  },
  {
   "cell_type": "code",
   "execution_count": 5,
   "outputs": [],
   "source": [
    "from sklearn.neighbors import NearestNeighbors\n",
    "\n",
    "# KNN-Modell trainieren\n",
    "knn = NearestNeighbors(n_neighbors=10, algorithm='ball_tree')\n",
    "knn.fit(X_scaled_df[features])\n",
    "\n",
    "# Modell speichern\n",
    "with open('knn_model.pkl', 'wb') as f:\n",
    "    pickle.dump(knn, f)\n"
   ],
   "metadata": {
    "collapsed": false,
    "ExecuteTime": {
     "end_time": "2024-05-26T03:47:36.777325800Z",
     "start_time": "2024-05-26T03:47:36.125739800Z"
    }
   }
  },
  {
   "cell_type": "code",
   "execution_count": 6,
   "outputs": [
    {
     "name": "stderr",
     "output_type": "stream",
     "text": [
      "2024-05-26 05:48:06.420 \n",
      "  \u001B[33m\u001B[1mWarning:\u001B[0m to view this Streamlit app on a browser, run it with the following\n",
      "  command:\n",
      "\n",
      "    streamlit run C:\\Users\\monaa\\anaconda3\\Lib\\site-packages\\ipykernel_launcher.py [ARGUMENTS]\n",
      "C:\\Users\\monaa\\anaconda3\\Lib\\site-packages\\sklearn\\base.py:439: UserWarning: X does not have valid feature names, but StandardScaler was fitted with feature names\n",
      "  warnings.warn(\n",
      "C:\\Users\\monaa\\anaconda3\\Lib\\site-packages\\sklearn\\base.py:439: UserWarning: X does not have valid feature names, but NearestNeighbors was fitted with feature names\n",
      "  warnings.warn(\n"
     ]
    }
   ],
   "source": [
    "import streamlit as st\n",
    "import pandas as pd\n",
    "import numpy as np\n",
    "import pickle\n",
    "\n",
    "# Laden der Modelle und Daten\n",
    "scaler = pickle.load(open('scaler.pkl', 'rb'))\n",
    "knn = pickle.load(open('knn_model.pkl', 'rb'))\n",
    "merged_df_4 = pd.read_csv(r'C:\\Users\\monaa\\Desktop\\Seminare & Vorlesungen\\Analyseanwendungen\\spotify_data\\SpotGenTrack\\Data Sources\\merged_df_4.csv')\n",
    "\n",
    "# Feature-Auswahl\n",
    "features = ['danceability', 'energy', 'tempo', 'valence', 'acousticness', 'instrumentalness', 'liveness', 'speechiness']\n",
    "\n",
    "# Streamlit-Benutzeroberfläche\n",
    "st.title('Spotify Song Recommendation System')\n",
    "\n",
    "# Song-Auswahl\n",
    "song_list = merged_df_4['name'].unique()\n",
    "selected_song = st.selectbox('Select a song', song_list)\n",
    "\n",
    "# Song-Informationen abrufen\n",
    "selected_song_data = merged_df_4[merged_df_4['name'] == selected_song].iloc[0]\n",
    "selected_song_features = selected_song_data[features].values.reshape(1, -1)\n",
    "\n",
    "# Merkmale normalisieren\n",
    "selected_song_features_scaled = scaler.transform(selected_song_features)\n",
    "\n",
    "# Empfehlungen generieren\n",
    "distances, indices = knn.kneighbors(selected_song_features_scaled)\n",
    "recommendations = merged_df_4.iloc[indices[0]]\n",
    "\n",
    "# Empfehlungen anzeigen\n",
    "st.subheader('Recommendations:')\n",
    "for i, row in recommendations.iterrows():\n",
    "    st.write(f\"{row['name']} by {row['artist_id']} - Danceability: {row['danceability']}, Energy: {row['energy']}\")\n"
   ],
   "metadata": {
    "collapsed": false,
    "ExecuteTime": {
     "end_time": "2024-05-26T03:48:06.539275300Z",
     "start_time": "2024-05-26T03:47:51.873365600Z"
    }
   }
  },
  {
   "cell_type": "code",
   "execution_count": null,
   "outputs": [],
   "source": [],
   "metadata": {
    "collapsed": false
   }
  }
 ]
}
